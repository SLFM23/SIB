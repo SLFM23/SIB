{
 "cells": [
  {
   "attachments": {},
   "cell_type": "markdown",
   "metadata": {},
   "source": [
    "# Exercise 3: Implement KNN Regressor\n",
    "## Exercise 3.3\n",
    "### Testar o objeto KNNRegressor num jupyter notebook usando o dataset cpu.csv (regressão)"
   ]
  },
  {
   "cell_type": "code",
   "execution_count": null,
   "metadata": {},
   "outputs": [],
   "source": [
    "from src.si.neighbors.knn_regressor import KNNRegressor\n",
    "from src.si.model_selection.split import train_test_split\n",
    "from src.si.io.csv_file import read_csv\n",
    "from src.si.statistic.euclidean_distance import euclidean_distance"
   ]
  },
  {
   "cell_type": "code",
   "execution_count": null,
   "metadata": {},
   "outputs": [],
   "source": [
    "cpu = read_csv(r\"/Users/Sergiomendes/Desktop/SIB/SIB/datasets/cpu.csv\",features=True,label=True)\n",
    "cpu.print_dataframe()"
   ]
  },
  {
   "cell_type": "code",
   "execution_count": null,
   "metadata": {},
   "outputs": [],
   "source": [
    "train, test = train_test_split(cpu)"
   ]
  },
  {
   "cell_type": "code",
   "execution_count": null,
   "metadata": {},
   "outputs": [],
   "source": [
    "kmeans = KNNRegressor(k=2)\n",
    "kmeans.fit(train)\n",
    "kmeans.score(test)"
   ]
  },
  {
   "attachments": {},
   "cell_type": "markdown",
   "metadata": {},
   "source": [
    "### Testar o objeto KNNClassifier num jupyter notebook usando o dataset iris.csv "
   ]
  },
  {
   "cell_type": "code",
   "execution_count": null,
   "metadata": {},
   "outputs": [],
   "source": [
    "from src.si.neighbors.knn_classifier import KNNClassifier"
   ]
  },
  {
   "cell_type": "code",
   "execution_count": null,
   "metadata": {},
   "outputs": [],
   "source": [
    "iris = read_csv(r\"C:/Users/Sergiomendes/Desktop/SIB/SIB/datasets/iris.csv\",features=True,label=True)\n",
    "train_iris, test_iris = train_test_split(iris)\n",
    "\n",
    "kmeans_iris = KNNClassifier(2)\n",
    "kmeans_iris.fit(train_iris)\n",
    "kmeans_iris.score(test_iris)"
   ]
  },
  {
   "cell_type": "code",
   "execution_count": null,
   "metadata": {},
   "outputs": [],
   "source": []
  }
 ],
 "metadata": {
  "kernelspec": {
   "display_name": "base",
   "language": "python",
   "name": "python3"
  },
  "language_info": {
   "name": "python",
   "version": "3.8.8 (default, Apr 13 2021, 12:59:45) \n[Clang 10.0.0 ]"
  },
  "orig_nbformat": 4,
  "vscode": {
   "interpreter": {
    "hash": "40d3a090f54c6569ab1632332b64b2c03c39dcf918b08424e98f38b5ae0af88f"
   }
  }
 },
 "nbformat": 4,
 "nbformat_minor": 2
}
