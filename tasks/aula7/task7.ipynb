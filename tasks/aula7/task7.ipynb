{
 "cells": [
  {
   "attachments": {},
   "cell_type": "markdown",
   "metadata": {},
   "source": [
    "## Exercise 8"
   ]
  },
  {
   "attachments": {},
   "cell_type": "markdown",
   "metadata": {},
   "source": [
    "### CrossValidate Test"
   ]
  },
  {
   "cell_type": "code",
   "execution_count": 1,
   "metadata": {},
   "outputs": [],
   "source": [
    "import sys\n",
    "sys.path.insert(0, '/Users/Sergiomendes/Desktop/SIB/SIB/src/si')\n",
    "# print(sys.path)\n",
    "\n",
    "from IO.csv_file import read_csv\n",
    "from sklearn.preprocessing import StandardScaler\n",
    "from model_selection.cross_validate import cross_validate\n",
    "from model_selection.grid_search import grid_search_cv\n",
    "from model_selection.randomized_search import randomized_search_cv\n",
    "from linear_model.logistic_regression import LogisticRegression\n",
    "import numpy as np\n",
    "\n"
   ]
  },
  {
   "cell_type": "code",
   "execution_count": 3,
   "metadata": {},
   "outputs": [
    {
     "data": {
      "text/plain": [
       "{'seed': [325, 147, 672, 286, 664],\n",
       " 'train': [0.962432915921288,\n",
       "  0.9660107334525939,\n",
       "  0.9695885509838998,\n",
       "  0.9660107334525939,\n",
       "  0.962432915921288],\n",
       " 'test': [0.9856115107913669,\n",
       "  0.9712230215827338,\n",
       "  0.9568345323741008,\n",
       "  0.9712230215827338,\n",
       "  0.9856115107913669]}"
      ]
     },
     "execution_count": 3,
     "metadata": {},
     "output_type": "execute_result"
    }
   ],
   "source": [
    "breast_data = read_csv(r\"/Users/Sergiomendes/Desktop/SIB/SIB/datasets/breast-bin.data\",label=True)\n",
    "breast_data.X = StandardScaler().fit_transform(breast_data.X)\n",
    "lg_model = LogisticRegression()\n",
    "score = cross_validate(lg_model,breast_data, cv=5)\n",
    "score"
   ]
  },
  {
   "attachments": {},
   "cell_type": "markdown",
   "metadata": {},
   "source": [
    "### GridSearch Test"
   ]
  },
  {
   "cell_type": "code",
   "execution_count": 4,
   "metadata": {},
   "outputs": [
    {
     "data": {
      "text/plain": [
       "[{'seed': [496, 723, 376],\n",
       "  'train': [0.9713774597495528, 0.9660107334525939, 0.9677996422182469],\n",
       "  'test': [0.9496402877697842, 0.9712230215827338, 0.9640287769784173],\n",
       "  'parameters': {'l2_penalty': 1, 'alpha': 0.001, 'max_iter': 1000}},\n",
       " {'seed': [806, 851, 899],\n",
       "  'train': [0.9695885509838998, 0.9677996422182469, 0.9660107334525939],\n",
       "  'test': [0.9640287769784173, 0.9712230215827338, 0.9712230215827338],\n",
       "  'parameters': {'l2_penalty': 1, 'alpha': 0.001, 'max_iter': 2000}},\n",
       " {'seed': [462, 231, 410],\n",
       "  'train': [0.9695885509838998, 0.9713774597495528, 0.964221824686941],\n",
       "  'test': [0.9568345323741008, 0.9496402877697842, 0.9784172661870504],\n",
       "  'parameters': {'l2_penalty': 1, 'alpha': 0.0001, 'max_iter': 1000}},\n",
       " {'seed': [368, 70, 42],\n",
       "  'train': [0.962432915921288, 0.964221824686941, 0.962432915921288],\n",
       "  'test': [0.9856115107913669, 0.9784172661870504, 0.9856115107913669],\n",
       "  'parameters': {'l2_penalty': 1, 'alpha': 0.0001, 'max_iter': 2000}},\n",
       " {'seed': [312, 148, 137],\n",
       "  'train': [0.9660107334525939, 0.9660107334525939, 0.964221824686941],\n",
       "  'test': [0.9712230215827338, 0.9712230215827338, 0.9784172661870504],\n",
       "  'parameters': {'l2_penalty': 10, 'alpha': 0.001, 'max_iter': 1000}},\n",
       " {'seed': [26, 380, 601],\n",
       "  'train': [0.9677996422182469, 0.9660107334525939, 0.9660107334525939],\n",
       "  'test': [0.9640287769784173, 0.9712230215827338, 0.9712230215827338],\n",
       "  'parameters': {'l2_penalty': 10, 'alpha': 0.001, 'max_iter': 2000}},\n",
       " {'seed': [157, 442, 724],\n",
       "  'train': [0.964221824686941, 0.9660107334525939, 0.9677996422182469],\n",
       "  'test': [0.9784172661870504, 0.9712230215827338, 0.9640287769784173],\n",
       "  'parameters': {'l2_penalty': 10, 'alpha': 0.0001, 'max_iter': 1000}},\n",
       " {'seed': [767, 899, 377],\n",
       "  'train': [0.964221824686941, 0.9660107334525939, 0.9713774597495528],\n",
       "  'test': [0.9784172661870504, 0.9712230215827338, 0.9496402877697842],\n",
       "  'parameters': {'l2_penalty': 10, 'alpha': 0.0001, 'max_iter': 2000}}]"
      ]
     },
     "execution_count": 4,
     "metadata": {},
     "output_type": "execute_result"
    }
   ],
   "source": [
    "lg_model = LogisticRegression()\n",
    "lg_model_param = {'l2_penalty': [1, 10],'alpha': [0.001, 0.0001],'max_iter': [1000, 2000]}\n",
    "\n",
    "scores = grid_search_cv(lg_model, breast_data, lg_model_param, cv=3)\n",
    "scores"
   ]
  }
 ],
 "metadata": {
  "kernelspec": {
   "display_name": "SIB",
   "language": "python",
   "name": "python3"
  },
  "language_info": {
   "codemirror_mode": {
    "name": "ipython",
    "version": 3
   },
   "file_extension": ".py",
   "mimetype": "text/x-python",
   "name": "python",
   "nbconvert_exporter": "python",
   "pygments_lexer": "ipython3",
   "version": "3.10.8"
  },
  "orig_nbformat": 4,
  "vscode": {
   "interpreter": {
    "hash": "e8206b0f8ccc46645b3da90002fbd61013639f0b19102dc496f42ae31086a16a"
   }
  }
 },
 "nbformat": 4,
 "nbformat_minor": 2
}
