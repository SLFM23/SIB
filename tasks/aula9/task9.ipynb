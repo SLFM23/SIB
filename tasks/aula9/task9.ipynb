{
 "cells": [
  {
   "attachments": {},
   "cell_type": "markdown",
   "metadata": {},
   "source": [
    "### NN Test"
   ]
  },
  {
   "cell_type": "code",
   "execution_count": 1,
   "metadata": {},
   "outputs": [],
   "source": [
    "import sys\n",
    "sys.path.insert(0, '/Users/Sergiomendes/Desktop/SIB/SIB/src/si')\n",
    "# print(sys.path)\n",
    "\n",
    "from neural_networks.layers import Dense, SigmoidActivation, SoftMaxActivation, ReLUActivation, LinearActivation\n",
    "from neural_networks.nn import NN\n",
    "from data.dataset import Dataset\n",
    "import numpy as np"
   ]
  },
  {
   "cell_type": "code",
   "execution_count": 2,
   "metadata": {},
   "outputs": [
    {
     "data": {
      "text/html": [
       "<div>\n",
       "<style scoped>\n",
       "    .dataframe tbody tr th:only-of-type {\n",
       "        vertical-align: middle;\n",
       "    }\n",
       "\n",
       "    .dataframe tbody tr th {\n",
       "        vertical-align: top;\n",
       "    }\n",
       "\n",
       "    .dataframe thead th {\n",
       "        text-align: right;\n",
       "    }\n",
       "</style>\n",
       "<table border=\"1\" class=\"dataframe\">\n",
       "  <thead>\n",
       "    <tr style=\"text-align: right;\">\n",
       "      <th></th>\n",
       "      <th>x1</th>\n",
       "      <th>x2</th>\n",
       "    </tr>\n",
       "  </thead>\n",
       "  <tbody>\n",
       "    <tr>\n",
       "      <th>1</th>\n",
       "      <td>0</td>\n",
       "      <td>0</td>\n",
       "    </tr>\n",
       "    <tr>\n",
       "      <th>0</th>\n",
       "      <td>0</td>\n",
       "      <td>1</td>\n",
       "    </tr>\n",
       "    <tr>\n",
       "      <th>0</th>\n",
       "      <td>1</td>\n",
       "      <td>0</td>\n",
       "    </tr>\n",
       "    <tr>\n",
       "      <th>1</th>\n",
       "      <td>1</td>\n",
       "      <td>1</td>\n",
       "    </tr>\n",
       "  </tbody>\n",
       "</table>\n",
       "</div>"
      ],
      "text/plain": [
       "   x1  x2\n",
       "1   0   0\n",
       "0   0   1\n",
       "0   1   0\n",
       "1   1   1"
      ]
     },
     "execution_count": 2,
     "metadata": {},
     "output_type": "execute_result"
    }
   ],
   "source": [
    "x = np.array([[0,0],\n",
    "              [0,1],\n",
    "              [1,0],\n",
    "              [1,1]])\n",
    "\n",
    "y = np.array([1,\n",
    "              0,\n",
    "              0,\n",
    "              1])\n",
    "\n",
    "dataset = Dataset(X=x, y=y, features=['x1', 'x2'], label='x1 XNOR x2')\n",
    "dataset.print_dataframe()"
   ]
  },
  {
   "cell_type": "code",
   "execution_count": 3,
   "metadata": {},
   "outputs": [],
   "source": [
    "# weights and bias for the 1st layer\n",
    "\n",
    "# first row is the first node of the second layer\n",
    "# rows are the input nodes\n",
    "l1_weight_matrix = np.array([[20, -20],\n",
    "                             [20, -20]])\n",
    "\n",
    "l1_bias = np.array([[-30, 10]])\n",
    "\n",
    "layer1 = Dense(input_size=2, output_size=2)\n",
    "layer1.weights = l1_weight_matrix\n",
    "layer1.bias = l1_bias"
   ]
  },
  {
   "cell_type": "code",
   "execution_count": 4,
   "metadata": {},
   "outputs": [],
   "source": [
    "\n",
    "# weights and bias for the 2nd layer\n",
    "\n",
    "l2_weight_matrix = np.array([[20],\n",
    "                             [20]])\n",
    "\n",
    "l2_bias = np.array([[-10]])\n",
    "\n",
    "layer2 = Dense(input_size=2, output_size=1)\n",
    "layer2.weights = l2_weight_matrix\n",
    "layer2.bias = l2_bias"
   ]
  },
  {
   "cell_type": "code",
   "execution_count": 5,
   "metadata": {},
   "outputs": [],
   "source": [
    "layer1_sigmoid = SigmoidActivation()\n",
    "layer2_sigmoid = SigmoidActivation()\n",
    "\n",
    "# between layers, we have the layer activation\n",
    "nn_model = NN(\n",
    "    layers=[layer1, layer1_sigmoid, layer2, layer2_sigmoid]\n",
    ")"
   ]
  },
  {
   "cell_type": "code",
   "execution_count": 6,
   "metadata": {},
   "outputs": [
    {
     "data": {
      "text/plain": [
       "<neural_networks.nn.NN at 0x7f8194f2b4c0>"
      ]
     },
     "execution_count": 6,
     "metadata": {},
     "output_type": "execute_result"
    }
   ],
   "source": [
    "nn_model.fit(dataset=dataset)"
   ]
  },
  {
   "cell_type": "code",
   "execution_count": 7,
   "metadata": {},
   "outputs": [
    {
     "data": {
      "text/plain": [
       "array([[9.99954561e-01],\n",
       "       [4.54803785e-05],\n",
       "       [4.54803785e-05],\n",
       "       [9.99954561e-01]])"
      ]
     },
     "execution_count": 7,
     "metadata": {},
     "output_type": "execute_result"
    }
   ],
   "source": [
    "nn_model.predict(dataset=dataset)"
   ]
  },
  {
   "attachments": {},
   "cell_type": "markdown",
   "metadata": {},
   "source": [
    "## Exercise 10\n",
    "### Binary Classification Problem"
   ]
  },
  {
   "cell_type": "code",
   "execution_count": 8,
   "metadata": {},
   "outputs": [],
   "source": [
    "# Create an adequate training dataset\n",
    "x_3 = np.random.randn(100, 32)  # 100 samples with 32 features of random floats\n",
    "y_3 = np.random.randint(0, 2, size=(100, 1))  # labels for the 100 samples of random binary integers\n",
    "\n",
    "dataset_3 = Dataset(x_3, y_3)"
   ]
  },
  {
   "cell_type": "code",
   "execution_count": 9,
   "metadata": {},
   "outputs": [],
   "source": [
    "layer3_1 = Dense(input_size=32, output_size=32)\n",
    "layer3_2 = Dense(input_size=32, output_size=16)\n",
    "layer3_3 = Dense(input_size=16, output_size=1)  #if score is <0.5 the output is 0, and if score is >0.5 the output is 1\n",
    "\n",
    "layer3_1activation = SigmoidActivation()\n",
    "layer3_2activation = SigmoidActivation()\n",
    "layer3_3activation= SigmoidActivation()\n",
    "\n",
    "# between layers, we have the layer activation\n",
    "nn_model3 = NN(\n",
    "    layers=[layer3_1, layer3_1activation, layer3_2, layer3_2activation, layer3_3, layer3_3activation]\n",
    ")"
   ]
  },
  {
   "cell_type": "code",
   "execution_count": 10,
   "metadata": {},
   "outputs": [
    {
     "data": {
      "text/plain": [
       "<neural_networks.nn.NN at 0x7f8194f2b520>"
      ]
     },
     "execution_count": 10,
     "metadata": {},
     "output_type": "execute_result"
    }
   ],
   "source": [
    "nn_model3.fit(dataset=dataset_3)"
   ]
  },
  {
   "cell_type": "code",
   "execution_count": 11,
   "metadata": {},
   "outputs": [
    {
     "data": {
      "text/plain": [
       "array([[0.49105787],\n",
       "       [0.49105916],\n",
       "       [0.49105559],\n",
       "       [0.49105961],\n",
       "       [0.49105964],\n",
       "       [0.49105491],\n",
       "       [0.49105928],\n",
       "       [0.49105806],\n",
       "       [0.49105937],\n",
       "       [0.49106046],\n",
       "       [0.49105735],\n",
       "       [0.49105608],\n",
       "       [0.4910535 ],\n",
       "       [0.49105476],\n",
       "       [0.49105882],\n",
       "       [0.49106006],\n",
       "       [0.49105923],\n",
       "       [0.49105874],\n",
       "       [0.49106114],\n",
       "       [0.49106034],\n",
       "       [0.49105991],\n",
       "       [0.49105591],\n",
       "       [0.49105888],\n",
       "       [0.49105708],\n",
       "       [0.49105554],\n",
       "       [0.49105753],\n",
       "       [0.49105655],\n",
       "       [0.49105709],\n",
       "       [0.4910585 ],\n",
       "       [0.49105879],\n",
       "       [0.49105776],\n",
       "       [0.49105991],\n",
       "       [0.49105669],\n",
       "       [0.49105994],\n",
       "       [0.49105873],\n",
       "       [0.49105835],\n",
       "       [0.49105656],\n",
       "       [0.49105731],\n",
       "       [0.49105665],\n",
       "       [0.49105659],\n",
       "       [0.49105911],\n",
       "       [0.49105384],\n",
       "       [0.49105886],\n",
       "       [0.49105722],\n",
       "       [0.49105659],\n",
       "       [0.49105794],\n",
       "       [0.49105742],\n",
       "       [0.49105769],\n",
       "       [0.49106042],\n",
       "       [0.49105607],\n",
       "       [0.49105657],\n",
       "       [0.49105777],\n",
       "       [0.49105853],\n",
       "       [0.4910574 ],\n",
       "       [0.49105575],\n",
       "       [0.49105957],\n",
       "       [0.49105971],\n",
       "       [0.49105701],\n",
       "       [0.49105766],\n",
       "       [0.49105651],\n",
       "       [0.49105841],\n",
       "       [0.49105981],\n",
       "       [0.49105522],\n",
       "       [0.49105887],\n",
       "       [0.49106008],\n",
       "       [0.49105937],\n",
       "       [0.49106258],\n",
       "       [0.49105851],\n",
       "       [0.4910578 ],\n",
       "       [0.49105918],\n",
       "       [0.49105928],\n",
       "       [0.49105949],\n",
       "       [0.49105682],\n",
       "       [0.49105881],\n",
       "       [0.49106088],\n",
       "       [0.49105796],\n",
       "       [0.49105825],\n",
       "       [0.49105669],\n",
       "       [0.49105841],\n",
       "       [0.49105958],\n",
       "       [0.4910598 ],\n",
       "       [0.49105885],\n",
       "       [0.49105778],\n",
       "       [0.49106287],\n",
       "       [0.49105899],\n",
       "       [0.49105901],\n",
       "       [0.49105662],\n",
       "       [0.49105883],\n",
       "       [0.49105841],\n",
       "       [0.49105882],\n",
       "       [0.49106177],\n",
       "       [0.49105865],\n",
       "       [0.49105599],\n",
       "       [0.49105666],\n",
       "       [0.49106183],\n",
       "       [0.49105437],\n",
       "       [0.49105722],\n",
       "       [0.49105921],\n",
       "       [0.49105699],\n",
       "       [0.49105979]])"
      ]
     },
     "execution_count": 11,
     "metadata": {},
     "output_type": "execute_result"
    }
   ],
   "source": [
    "nn_model3.predict(dataset=dataset_3)"
   ]
  },
  {
   "attachments": {},
   "cell_type": "markdown",
   "metadata": {},
   "source": [
    "### Multiclass Classification Problem"
   ]
  },
  {
   "cell_type": "code",
   "execution_count": 12,
   "metadata": {},
   "outputs": [],
   "source": [
    "# Create an adequate training dataset\n",
    "x_4 = np.random.randn(100, 32)  # 100 samples with 32 features of random floats\n",
    "y_4 = np.random.randint(0, 3, size=(100, 1))  # labels for the 100 samples with 3 different classes\n",
    "\n",
    "dataset_4 = Dataset(x_4, y_4)"
   ]
  },
  {
   "cell_type": "code",
   "execution_count": 13,
   "metadata": {},
   "outputs": [],
   "source": [
    "layer4_1 = Dense(input_size=32, output_size=32)\n",
    "layer4_2 = Dense(input_size=32, output_size=16)\n",
    "layer4_3 = Dense(input_size=16, output_size=3)  # will assign each output to the corresponding class according to the score\n",
    "\n",
    "layer4_1activation = SigmoidActivation()\n",
    "layer4_2activation= SigmoidActivation()\n",
    "layer4_3activation = SoftMaxActivation()  # will assign a probability to each class that summed together will add up to 1\n",
    "\n",
    "# between layers, we have the layer activation\n",
    "nn_model4 = NN(\n",
    "    layers=[layer4_1, layer4_1activation, layer4_2, layer4_2activation, layer4_3, layer4_3activation]\n",
    ")"
   ]
  },
  {
   "cell_type": "code",
   "execution_count": 14,
   "metadata": {},
   "outputs": [
    {
     "data": {
      "text/plain": [
       "<neural_networks.nn.NN at 0x7f8194f2aad0>"
      ]
     },
     "execution_count": 14,
     "metadata": {},
     "output_type": "execute_result"
    }
   ],
   "source": [
    "nn_model4.fit(dataset=dataset_4)"
   ]
  },
  {
   "cell_type": "code",
   "execution_count": null,
   "metadata": {},
   "outputs": [],
   "source": [
    "nn_model4.predict(dataset=dataset_4)"
   ]
  },
  {
   "attachments": {},
   "cell_type": "markdown",
   "metadata": {},
   "source": [
    "### Regression Problem"
   ]
  },
  {
   "cell_type": "code",
   "execution_count": 15,
   "metadata": {},
   "outputs": [],
   "source": [
    "# Create an adequate training dataset\n",
    "x_5 = np.random.randn(100, 32)  # 100 samples with 32 features of random floats\n",
    "y_5 = np.random.randn(100, 1)  # labels for the 100 samples of random floats\n",
    "\n",
    "dataset_5 = Dataset(x_5, y_5)"
   ]
  },
  {
   "cell_type": "code",
   "execution_count": 16,
   "metadata": {},
   "outputs": [],
   "source": [
    "layer5_1 = Dense(input_size=32, output_size=32)\n",
    "layer5_2 = Dense(input_size=32, output_size=16)\n",
    "layer5_3 = Dense(input_size=16, output_size=1)  # returns a single continuous target for each sample\n",
    "\n",
    "layer5_1activation = ReLUActivation()\n",
    "layer5_2activation = ReLUActivation()\n",
    "layer5_3activation = LinearActivation()  # returns a real values for our output\n",
    "\n",
    "# between layers, we have the layer activation\n",
    "nn_model5 = NN(\n",
    "    layers=[layer5_1, layer5_1activation, layer5_2, layer5_2activation, layer5_3, layer5_3activation]\n",
    ")"
   ]
  },
  {
   "cell_type": "code",
   "execution_count": 17,
   "metadata": {},
   "outputs": [
    {
     "data": {
      "text/plain": [
       "<neural_networks.nn.NN at 0x7f8193512a70>"
      ]
     },
     "execution_count": 17,
     "metadata": {},
     "output_type": "execute_result"
    }
   ],
   "source": [
    "nn_model5.fit(dataset=dataset_5)"
   ]
  },
  {
   "cell_type": "code",
   "execution_count": 18,
   "metadata": {},
   "outputs": [
    {
     "data": {
      "text/plain": [
       "array([[ 1.02164165e-05],\n",
       "       [ 7.84938221e-05],\n",
       "       [ 1.23811965e-04],\n",
       "       [ 6.67774194e-05],\n",
       "       [-8.21508306e-06],\n",
       "       [-1.53192014e-05],\n",
       "       [ 4.30583702e-05],\n",
       "       [ 1.97363960e-05],\n",
       "       [ 1.82501060e-06],\n",
       "       [ 4.04512590e-05],\n",
       "       [-5.13390477e-05],\n",
       "       [ 1.63591453e-05],\n",
       "       [ 4.50634324e-05],\n",
       "       [ 1.97118925e-05],\n",
       "       [-1.03435639e-05],\n",
       "       [-4.87051497e-05],\n",
       "       [-2.00238379e-05],\n",
       "       [-2.05531716e-05],\n",
       "       [ 4.63870647e-06],\n",
       "       [ 2.76320660e-05],\n",
       "       [ 4.61693156e-05],\n",
       "       [-1.19417719e-05],\n",
       "       [ 6.04721330e-05],\n",
       "       [ 6.65073335e-06],\n",
       "       [ 6.20321982e-05],\n",
       "       [ 3.41907823e-05],\n",
       "       [-6.18030036e-07],\n",
       "       [ 2.90000976e-05],\n",
       "       [-1.55974606e-07],\n",
       "       [ 5.06726019e-06],\n",
       "       [-1.22868033e-05],\n",
       "       [ 6.17204554e-05],\n",
       "       [ 8.64353140e-05],\n",
       "       [ 2.07909838e-05],\n",
       "       [ 2.94036984e-05],\n",
       "       [-1.81914093e-05],\n",
       "       [ 5.37400711e-05],\n",
       "       [-7.41697783e-06],\n",
       "       [ 2.81509645e-05],\n",
       "       [-2.55031939e-05],\n",
       "       [ 6.33950715e-05],\n",
       "       [ 3.07648138e-05],\n",
       "       [-2.20091217e-05],\n",
       "       [ 4.52372119e-05],\n",
       "       [ 1.02739936e-04],\n",
       "       [ 2.69377994e-05],\n",
       "       [ 5.50088439e-05],\n",
       "       [-1.59060638e-05],\n",
       "       [ 6.93960143e-05],\n",
       "       [-7.29121338e-06],\n",
       "       [ 6.55549658e-07],\n",
       "       [ 1.38887396e-05],\n",
       "       [-3.43067857e-05],\n",
       "       [ 6.48675220e-05],\n",
       "       [-2.93389346e-06],\n",
       "       [ 1.71602096e-05],\n",
       "       [ 5.32888984e-05],\n",
       "       [-1.97565678e-05],\n",
       "       [ 8.01808332e-05],\n",
       "       [ 9.16032699e-06],\n",
       "       [ 1.76134429e-05],\n",
       "       [ 2.54021246e-05],\n",
       "       [-4.63821317e-05],\n",
       "       [ 2.43400578e-05],\n",
       "       [-4.56571000e-05],\n",
       "       [-1.52624909e-06],\n",
       "       [-6.78399747e-06],\n",
       "       [ 1.79854653e-05],\n",
       "       [ 4.11993322e-05],\n",
       "       [ 2.57291447e-05],\n",
       "       [ 3.33366110e-05],\n",
       "       [-2.86808663e-05],\n",
       "       [ 1.90274614e-05],\n",
       "       [-1.44784205e-05],\n",
       "       [-4.98640075e-06],\n",
       "       [-4.36730275e-05],\n",
       "       [-5.33814830e-06],\n",
       "       [ 7.53452939e-05],\n",
       "       [ 1.37453856e-05],\n",
       "       [ 4.40848147e-05],\n",
       "       [ 1.65923097e-05],\n",
       "       [ 1.41965101e-05],\n",
       "       [ 8.51979219e-06],\n",
       "       [ 9.71935174e-06],\n",
       "       [-1.87893096e-06],\n",
       "       [-3.69293560e-05],\n",
       "       [-3.47584297e-05],\n",
       "       [-4.29513725e-05],\n",
       "       [ 3.68589714e-05],\n",
       "       [-1.89019897e-05],\n",
       "       [ 3.14138890e-05],\n",
       "       [ 4.19645669e-06],\n",
       "       [-2.80292345e-05],\n",
       "       [ 2.64420719e-05],\n",
       "       [ 4.69186489e-05],\n",
       "       [-5.40047093e-06],\n",
       "       [ 1.41025090e-05],\n",
       "       [ 6.81761046e-05],\n",
       "       [ 3.76693803e-06],\n",
       "       [-1.90061623e-05]])"
      ]
     },
     "execution_count": 18,
     "metadata": {},
     "output_type": "execute_result"
    }
   ],
   "source": [
    "nn_model5.predict(dataset=dataset_5)"
   ]
  }
 ],
 "metadata": {
  "kernelspec": {
   "display_name": "SIB",
   "language": "python",
   "name": "python3"
  },
  "language_info": {
   "codemirror_mode": {
    "name": "ipython",
    "version": 3
   },
   "file_extension": ".py",
   "mimetype": "text/x-python",
   "name": "python",
   "nbconvert_exporter": "python",
   "pygments_lexer": "ipython3",
   "version": "3.10.8"
  },
  "orig_nbformat": 4,
  "vscode": {
   "interpreter": {
    "hash": "e8206b0f8ccc46645b3da90002fbd61013639f0b19102dc496f42ae31086a16a"
   }
  }
 },
 "nbformat": 4,
 "nbformat_minor": 2
}
