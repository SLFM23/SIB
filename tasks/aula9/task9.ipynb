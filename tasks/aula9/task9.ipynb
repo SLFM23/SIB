{
 "cells": [
  {
   "cell_type": "code",
   "execution_count": null,
   "metadata": {},
   "outputs": [],
   "source": [
    "import sys\n",
    "sys.path.insert(0, '/Users/Sergiomendes/Desktop/SIB/SIB/src/si')\n",
    "# print(sys.path)"
   ]
  }
 ],
 "metadata": {
  "kernelspec": {
   "display_name": "SIB",
   "language": "python",
   "name": "python3"
  },
  "language_info": {
   "name": "python",
   "version": "3.10.8 (main, Nov 24 2022, 08:09:04) [Clang 14.0.6 ]"
  },
  "orig_nbformat": 4,
  "vscode": {
   "interpreter": {
    "hash": "e8206b0f8ccc46645b3da90002fbd61013639f0b19102dc496f42ae31086a16a"
   }
  }
 },
 "nbformat": 4,
 "nbformat_minor": 2
}
